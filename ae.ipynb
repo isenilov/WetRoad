{
 "cells": [
  {
   "cell_type": "markdown",
   "metadata": {},
   "source": [
    "## Autoencoder experiment\n",
    "\n",
    "1. Build an autoencoder and train it on train data (MIT's)\n",
    "2. Save the encoded train data (MIT's)\n",
    "3. Take encoder part from the AE and encode youtube data (the data that will work as \"augmenter\")\n",
    "4. Apply some clustering or other algorithm to find similar segments in both encoded datasets (using some MIT videos as seeds)\n",
    "5. Train NN on the MIT and YT data (those segments that are similar to MIT)\n",
    "6. Validate the classifier (so you may need to leave some of the MIT and YT data out of the training)\n",
    "7. Test on our own data"
   ]
  },
  {
   "cell_type": "code",
   "execution_count": null,
   "metadata": {
    "collapsed": true
   },
   "outputs": [],
   "source": []
  }
 ],
 "metadata": {
  "kernelspec": {
   "display_name": "Python 3",
   "language": "python",
   "name": "python3"
  },
  "language_info": {
   "codemirror_mode": {
    "name": "ipython",
    "version": 3
   },
   "file_extension": ".py",
   "mimetype": "text/x-python",
   "name": "python",
   "nbconvert_exporter": "python",
   "pygments_lexer": "ipython3",
   "version": "3.6.3"
  }
 },
 "nbformat": 4,
 "nbformat_minor": 2
}
