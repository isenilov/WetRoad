{
 "cells": [
  {
   "cell_type": "code",
   "execution_count": 26,
   "metadata": {},
   "outputs": [
    {
     "name": "stderr",
     "output_type": "stream",
     "text": [
      "C:\\Users\\isenilov\\Anaconda3\\lib\\site-packages\\librosa\\filters.py:261: UserWarning: Empty filters detected in mel frequency basis. Some channels will produce empty responses. Try increasing your sampling rate (and fmax) or reducing n_mels.\n  warnings.warn('Empty filters detected in mel frequency basis. '\n"
     ]
    }
   ],
   "source": [
    "%matplotlib inline\n",
    "from scipy.io import wavfile\n",
    "import numpy as np\n",
    "from librosa import feature\n",
    "\n",
    "rate, frames = wavfile.read(\"dataset/dry/chevy_dry.wav\")\n",
    "window = 4096\n",
    "nfft = 64\n",
    "feat = []\n",
    "# len(frames)-window\n",
    "for i in range(0, len(frames) - window, window):\n",
    "    # feat.append(np.array(frames[i:i + window]))\n",
    "    feat.append(np.array(feature.mfcc(frames[i:i + window - 1],\n",
    "                               sr=rate,\n",
    "                               n_fft=nfft,\n",
    "                               hop_length=round(nfft / 2),\n",
    "                               fmax=8000)).flatten())\n",
    "feat = np.stack(feat)\n",
    "\n"
   ]
  },
  {
   "cell_type": "code",
   "execution_count": 27,
   "metadata": {},
   "outputs": [
    {
     "data": {
      "text/plain": [
       "(13576, 2560)"
      ]
     },
     "execution_count": 27,
     "metadata": {},
     "output_type": "execute_result"
    }
   ],
   "source": [
    "feat.shape"
   ]
  },
  {
   "cell_type": "code",
   "execution_count": null,
   "metadata": {
    "collapsed": false
   },
   "outputs": [],
   "source": [
    "from sklearn.cluster import DBSCAN, MeanShift, estimate_bandwidth, AffinityPropagation, KMeans\n",
    "\n",
    "X = feat\n",
    "# db = AffinityPropagation(damping=0.9, verbose=True).fit(X)\n",
    "db = KMeans(init='k-means++', n_clusters=3, n_init=10).fit(X)\n",
    "labels = db.labels_\n",
    "\n",
    "# Number of clusters in labels, ignoring noise if present.\n",
    "n_clusters_ = len(set(labels)) - (1 if -1 in labels else 0)\n",
    "\n",
    "print('Estimated number of clusters: %d' % n_clusters_)\n",
    "\n",
    "print(labels)"
   ]
  },
  {
   "cell_type": "code",
   "execution_count": null,
   "metadata": {},
   "outputs": [],
   "source": [
    "pointer = 0\n",
    "data = {el: [] for el in labels}\n",
    "for l in labels:\n",
    "    data[l].extend(frames[pointer:pointer+window])\n",
    "    pointer += window\n"
   ]
  },
  {
   "cell_type": "code",
   "execution_count": 38,
   "metadata": {},
   "outputs": [],
   "source": [
    "for key, value in data.items():\n",
    "    wavfile.write(str(key)+\".wav\", rate, np.array(value))"
   ]
  }
 ],
 "metadata": {
  "kernelspec": {
   "display_name": "Python 2",
   "language": "python",
   "name": "python2"
  },
  "language_info": {
   "codemirror_mode": {
    "name": "ipython",
    "version": 2
   },
   "file_extension": ".py",
   "mimetype": "text/x-python",
   "name": "python",
   "nbconvert_exporter": "python",
   "pygments_lexer": "ipython2",
   "version": "2.7.6"
  }
 },
 "nbformat": 4,
 "nbformat_minor": 0
}
